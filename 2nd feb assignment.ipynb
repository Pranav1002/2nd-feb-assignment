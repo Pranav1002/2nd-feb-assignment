{
 "cells": [
  {
   "cell_type": "markdown",
   "id": "09d8bddb-a980-4850-ac6b-5ee542eb58e3",
   "metadata": {},
   "source": [
    "Q1. Explain with an example each when to use a for loop and a while loop.\n",
    "\n",
    "---> A for loop is typically used when you know the number of iterations you want to perform, or when you want to iterate over a sequence of elements such as a list or an array. \n",
    "\n",
    "---> A while loop, on the other hand, is typically used when you don't know the number of iterations you need to perform, or when you want to repeat a block of code until a certain condition is met."
   ]
  },
  {
   "cell_type": "markdown",
   "id": "cae82e3e-9bb3-4052-a5ae-474da8083765",
   "metadata": {},
   "source": [
    "Q2. Write a python program to print the sum and product of the first 10 natural numbers using for\n",
    "and while loop."
   ]
  },
  {
   "cell_type": "code",
   "execution_count": 2,
   "id": "8b158f9f-5bd1-445a-ad82-10648a7d85bc",
   "metadata": {},
   "outputs": [
    {
     "name": "stdout",
     "output_type": "stream",
     "text": [
      "Sum using for loop :  55\n",
      "Sum using while loop :  55\n",
      "Product using for loop :  3628800\n",
      "Product using while loop :  3628800\n"
     ]
    }
   ],
   "source": [
    "sum1 = 0\n",
    "prod1 = 1\n",
    "\n",
    "for i in range(1,11):\n",
    "    sum1 = sum1+i\n",
    "print('Sum using for loop : ',sum1)\n",
    "    \n",
    "sum1 = 0\n",
    "c=0\n",
    "while(c<11):\n",
    "    sum1 = sum1 + c\n",
    "    c=c+1\n",
    "print('Sum using while loop : ',sum1)\n",
    "\n",
    "for i in range(1,11):\n",
    "    prod1=prod1*i\n",
    "print('Product using for loop : ',prod1)\n",
    "\n",
    "prod1=1\n",
    "c=1\n",
    "\n",
    "while(c<11):\n",
    "    prod1=prod1*c\n",
    "    c=c+1\n",
    "print('Product using while loop : ',prod1)"
   ]
  },
  {
   "cell_type": "markdown",
   "id": "753518c3-1b92-4fab-85e4-6a4e3a215f18",
   "metadata": {},
   "source": [
    "  "
   ]
  },
  {
   "cell_type": "markdown",
   "id": "5f86b2fd-1dfb-46a4-b7aa-1155c5b137f2",
   "metadata": {},
   "source": [
    "Q3. create a python program to calculate the electricity bill of a house.\n",
    "The per-unit charges in rupees are as follows: For the first 100 units, the user will be charged Rs. 4.5 per\n",
    "unit, for the next 100 units, the user will be charged Rs. 6 per unit, and for the next 100 units, the user will\n",
    "be charged Rs. 10 per unit, After 300 units and above the user will be charged Rs. 20 per unit."
   ]
  },
  {
   "cell_type": "code",
   "execution_count": null,
   "id": "041b06b0-0ad4-4ea5-9cca-227eb9f9874b",
   "metadata": {},
   "outputs": [
    {
     "name": "stdin",
     "output_type": "stream",
     "text": [
      "Enter Number of units :  310\n"
     ]
    },
    {
     "name": "stdout",
     "output_type": "stream",
     "text": [
      "Bill of the month :  6200\n"
     ]
    }
   ],
   "source": [
    "units = int(input('Enter Number of units : '))\n",
    "bill=0\n",
    "\n",
    "if(units>=0 and units<=100):\n",
    "    bill=units*4.5\n",
    "elif(units>100 and units<=200):\n",
    "    bill = 100*4.5 + (units-100)*6\n",
    "elif(units>200 and units<=300):\n",
    "    bill = 100*4.5 + 100*6 +(units-100)*10\n",
    "else:\n",
    "    bill = 100*4.5 + 100*6 +(units-100)*10\n",
    "    \n",
    "print('Bill of the month : ',bill)"
   ]
  },
  {
   "cell_type": "markdown",
   "id": "d177cfde-2b0b-4c0a-a334-cdd46a3b401f",
   "metadata": {},
   "source": [
    " "
   ]
  },
  {
   "cell_type": "markdown",
   "id": "8c28c056-a764-4967-aeec-62d7e51450a8",
   "metadata": {},
   "source": [
    "  "
   ]
  },
  {
   "cell_type": "markdown",
   "id": "946bd3b3-9cf1-49f4-b002-e60b5adbb932",
   "metadata": {},
   "source": [
    "Q4. Create a list of numbers from 1 to 100. Use for loop and while loop to calculate the cube of each\n",
    "number and if the cube of that number is divisible by 4 or 5 then append that number in a list and print\n",
    "that list."
   ]
  },
  {
   "cell_type": "code",
   "execution_count": null,
   "id": "6201811f-ae99-418b-90b2-74982fcab4e4",
   "metadata": {},
   "outputs": [],
   "source": [
    "l=[]\n",
    "\n",
    "for i in range(1,101):\n",
    "    l.append(i)\n",
    "    \n",
    "l2=[]\n",
    "    \n",
    "for i in l:\n",
    "    l2.append(i**3)\n",
    "\n",
    "l3=[]\n",
    "i=0\n",
    "while i<len(l3[]):\n",
    "    l3.append(i**3)\n",
    "    \n",
    "l4 = []\n",
    "\n",
    "for j in l2:\n",
    "    if(j%4==0 or j%5==0):\n",
    "        "
   ]
  }
 ],
 "metadata": {
  "kernelspec": {
   "display_name": "Python 3 (ipykernel)",
   "language": "python",
   "name": "python3"
  },
  "language_info": {
   "codemirror_mode": {
    "name": "ipython",
    "version": 3
   },
   "file_extension": ".py",
   "mimetype": "text/x-python",
   "name": "python",
   "nbconvert_exporter": "python",
   "pygments_lexer": "ipython3",
   "version": "3.10.6"
  }
 },
 "nbformat": 4,
 "nbformat_minor": 5
}
